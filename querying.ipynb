{
 "cells": [
  {
   "cell_type": "code",
   "execution_count": 1,
   "id": "c2ec13e6-6982-4719-b01e-1b64dc879d02",
   "metadata": {},
   "outputs": [
    {
     "name": "stdout",
     "output_type": "stream",
     "text": [
      "4.7.3\n"
     ]
    }
   ],
   "source": [
    "import pymongo\n",
    "print(pymongo.__version__)"
   ]
  },
  {
   "cell_type": "markdown",
   "id": "7fda9b43-f10d-4ac5-b72c-563bf3963555",
   "metadata": {},
   "source": [
    "### Connect"
   ]
  },
  {
   "cell_type": "code",
   "execution_count": 5,
   "id": "6033c490-80a5-49f6-99ac-899117ce4d9d",
   "metadata": {},
   "outputs": [],
   "source": [
    "#server\n",
    "client = pymongo.MongoClient(\"mongodb://localhost:27017/\")\n",
    "#database\n",
    "mydb = client[\"Engines\"]\n",
    "#collection\n",
    "engineinfo = mydb.engineInformation"
   ]
  },
  {
   "cell_type": "markdown",
   "id": "86963f40-d02d-40dd-b67d-ccd40b3b3602",
   "metadata": {},
   "source": [
    "### Adding Records"
   ]
  },
  {
   "cell_type": "code",
   "execution_count": 7,
   "id": "d181b938-d858-4561-a4d0-6e7795263460",
   "metadata": {},
   "outputs": [
    {
     "data": {
      "text/plain": [
       "InsertOneResult(ObjectId('667613fdfc5299048e577843'), acknowledged=True)"
      ]
     },
     "execution_count": 7,
     "metadata": {},
     "output_type": "execute_result"
    }
   ],
   "source": [
    "#add one record / document\n",
    "record = {\n",
    "    \"engine_name\":\"LS3\",\n",
    "    \"manufacture\":\"GM\",\n",
    "    \"capacity\":\"6.2L\",\n",
    "    \"horse_power\":425\n",
    "}\n",
    "engineinfo.insert_one(record)"
   ]
  },
  {
   "cell_type": "code",
   "execution_count": 10,
   "id": "b11492c4-f61e-44ff-8738-73bd59a2382a",
   "metadata": {},
   "outputs": [
    {
     "data": {
      "text/plain": [
       "InsertManyResult([ObjectId('66761554fc5299048e577844'), ObjectId('66761554fc5299048e577845'), ObjectId('66761554fc5299048e577846')], acknowledged=True)"
      ]
     },
     "execution_count": 10,
     "metadata": {},
     "output_type": "execute_result"
    }
   ],
   "source": [
    "#add multiple records\n",
    "records = [\n",
    "    {\n",
    "    \"engine_name\":\"2JZ\",\n",
    "    \"manufacture\":\"Toyota\",\n",
    "    \"capacity\":\"3.0L\",\n",
    "    \"horse_power\":350\n",
    "    },\n",
    "    {\n",
    "    \"engine_name\":\"Cayote\",\n",
    "    \"manufacture\":\"Ford\",\n",
    "    \"capacity\":\"5.0L\",\n",
    "    \"horse_power\":475\n",
    "    },\n",
    "    {\n",
    "    \"engine_name\":\"Godzilla\",\n",
    "    \"manufacture\":\"Ford\",\n",
    "    \"capacity\":\"7.0L\",\n",
    "    \"horse_power\":525\n",
    "    }\n",
    "]\n",
    "engineinfo.insert_many(records)"
   ]
  },
  {
   "cell_type": "markdown",
   "id": "7150d2f3-3977-4646-b732-dfb217eda517",
   "metadata": {},
   "source": [
    "### Quering"
   ]
  },
  {
   "cell_type": "code",
   "execution_count": 17,
   "id": "07280b02-6d2a-4821-bb83-4ab3568d1329",
   "metadata": {},
   "outputs": [
    {
     "name": "stdout",
     "output_type": "stream",
     "text": [
      "first_entry:{'_id': ObjectId('667613fdfc5299048e577843'), 'engine_name': 'LS3', 'manufacture': 'GM', 'capacity': '6.2L', 'horse_power': 425}\n",
      "other_entry:{'_id': ObjectId('66761554fc5299048e577845'), 'engine_name': 'Cayote', 'manufacture': 'Ford', 'capacity': '5.0L', 'horse_power': 475}\n"
     ]
    }
   ],
   "source": [
    "#query one - returns the first entry that match the query\n",
    "first_entry = engineinfo.find_one()\n",
    "entry = engineinfo.find_one({\"manufacture\":\"Ford\"})\n",
    "print(f\"\"\"first_entry:{first_entry}\n",
    "other_entry:{entry}\"\"\")"
   ]
  },
  {
   "cell_type": "code",
   "execution_count": 22,
   "id": "1c501c6c-227f-45d8-aa3e-8e5e93f94b52",
   "metadata": {},
   "outputs": [
    {
     "name": "stdout",
     "output_type": "stream",
     "text": [
      "{'_id': ObjectId('667613fdfc5299048e577843'), 'engine_name': 'LS3', 'manufacture': 'GM', 'capacity': '6.2L', 'horse_power': 425}\n",
      "{'_id': ObjectId('66761554fc5299048e577844'), 'engine_name': '2JZ', 'manufacture': 'Toyota', 'capacity': '3.0L', 'horse_power': 350}\n",
      "{'_id': ObjectId('66761554fc5299048e577845'), 'engine_name': 'Cayote', 'manufacture': 'Ford', 'capacity': '5.0L', 'horse_power': 475}\n",
      "{'_id': ObjectId('66761554fc5299048e577846'), 'engine_name': 'Godzilla', 'manufacture': 'Ford', 'capacity': '7.0L', 'horse_power': 525}\n"
     ]
    },
    {
     "data": {
      "text/plain": [
       "dict"
      ]
     },
     "execution_count": 22,
     "metadata": {},
     "output_type": "execute_result"
    }
   ],
   "source": [
    "#query all records\n",
    "for record in engineinfo.find({}):   #similar to SELECT * FROM table_name in SQL\n",
    "    print(record)\n",
    "type(record)"
   ]
  },
  {
   "cell_type": "code",
   "execution_count": 47,
   "id": "75010b52-4944-4f1b-ab5d-80de5bfcdb6c",
   "metadata": {},
   "outputs": [
    {
     "name": "stdout",
     "output_type": "stream",
     "text": [
      "record 0 : {'_id': ObjectId('66761554fc5299048e577844'), 'engine_name': '2JZ', 'manufacture': 'Toyota', 'capacity': '3.0L', 'horse_power': 350}\n",
      "\n",
      "record 1 : {'_id': ObjectId('66761554fc5299048e577845'), 'engine_name': 'Cayote', 'manufacture': 'Ford', 'capacity': '5.0L', 'horse_power': 475}\n",
      "\n",
      "record 2 : {'_id': ObjectId('66761554fc5299048e577846'), 'engine_name': 'Godzilla', 'manufacture': 'Ford', 'capacity': '7.0L', 'horse_power': 525}\n",
      "\n"
     ]
    }
   ],
   "source": [
    "#skip(n) - the first n results will be skipped\n",
    "for i,record in enumerate(engineinfo.find().skip(1)):\n",
    "    print(f\"record {i} : {record}\\n\")"
   ]
  },
  {
   "cell_type": "code",
   "execution_count": 49,
   "id": "1927b21f-8d33-42cb-abb7-cdddff623612",
   "metadata": {},
   "outputs": [
    {
     "name": "stdout",
     "output_type": "stream",
     "text": [
      "record 0 : {'_id': ObjectId('667613fdfc5299048e577843'), 'engine_name': 'LS3', 'manufacture': 'GM', 'capacity': '6.2L', 'horse_power': 425}\n",
      "\n",
      "record 1 : {'_id': ObjectId('66761554fc5299048e577844'), 'engine_name': '2JZ', 'manufacture': 'Toyota', 'capacity': '3.0L', 'horse_power': 350}\n",
      "\n",
      "record 2 : {'_id': ObjectId('66761554fc5299048e577845'), 'engine_name': 'Cayote', 'manufacture': 'Ford', 'capacity': '5.0L', 'horse_power': 475}\n",
      "\n"
     ]
    }
   ],
   "source": [
    "#limit(n) - will limit the results to n records\n",
    "for i,record in enumerate(engineinfo.find().limit(3)):\n",
    "    print(f\"record {i} : {record}\\n\")"
   ]
  },
  {
   "cell_type": "code",
   "execution_count": 27,
   "id": "97cd4169-8581-4ad8-b9a3-20d8cc0e1559",
   "metadata": {},
   "outputs": [
    {
     "name": "stdout",
     "output_type": "stream",
     "text": [
      "record 0 : {'_id': ObjectId('66761554fc5299048e577845'), 'engine_name': 'Cayote', 'manufacture': 'Ford', 'capacity': '5.0L', 'horse_power': 475}\n",
      "\n",
      "record 1 : {'_id': ObjectId('66761554fc5299048e577846'), 'engine_name': 'Godzilla', 'manufacture': 'Ford', 'capacity': '7.0L', 'horse_power': 525}\n",
      "\n"
     ]
    }
   ],
   "source": [
    "#query JSON documents based on equality conditions\n",
    "for i, record in enumerate(engineinfo.find({\"manufacture\":\"Ford\"})):   #SELECT * FROM table_name WHERE manufacture=Ford\n",
    "    print(f\"record {i} : {record}\\n\")"
   ]
  },
  {
   "cell_type": "code",
   "execution_count": 32,
   "id": "f9c13d5c-475a-4ba5-b5f7-0e2f40b6388c",
   "metadata": {},
   "outputs": [
    {
     "name": "stdout",
     "output_type": "stream",
     "text": [
      "record 0 : {'_id': ObjectId('66761554fc5299048e577844'), 'engine_name': '2JZ', 'manufacture': 'Toyota', 'capacity': '3.0L', 'horse_power': 350}\n",
      "\n",
      "record 1 : {'_id': ObjectId('66761554fc5299048e577845'), 'engine_name': 'Cayote', 'manufacture': 'Ford', 'capacity': '5.0L', 'horse_power': 475}\n",
      "\n",
      "record 2 : {'_id': ObjectId('66761554fc5299048e577846'), 'engine_name': 'Godzilla', 'manufacture': 'Ford', 'capacity': '7.0L', 'horse_power': 525}\n",
      "\n"
     ]
    }
   ],
   "source": [
    "#query $in\n",
    "for i, record in enumerate(engineinfo.find({'manufacture':{'$in':['Toyota','Ford']}})):\n",
    "    print(f\"record {i} : {record}\\n\")"
   ]
  },
  {
   "cell_type": "code",
   "execution_count": 33,
   "id": "d7029375-f2b9-4f30-b149-e60fc8c1ab49",
   "metadata": {},
   "outputs": [
    {
     "name": "stdout",
     "output_type": "stream",
     "text": [
      "record 0 : {'_id': ObjectId('66761554fc5299048e577844'), 'engine_name': '2JZ', 'manufacture': 'Toyota', 'capacity': '3.0L', 'horse_power': 350}\n",
      "\n"
     ]
    }
   ],
   "source": [
    "#query $ls\n",
    "for i, record in enumerate(engineinfo.find({\"horse_power\":{'$lt':400}})):\n",
    "    print(f\"record {i} : {record}\\n\")"
   ]
  },
  {
   "cell_type": "code",
   "execution_count": 34,
   "id": "e0cdb30c-42c3-47b3-8df5-c28ec465d7cc",
   "metadata": {},
   "outputs": [
    {
     "name": "stdout",
     "output_type": "stream",
     "text": [
      "record 0 : {'_id': ObjectId('66761554fc5299048e577846'), 'engine_name': 'Godzilla', 'manufacture': 'Ford', 'capacity': '7.0L', 'horse_power': 525}\n",
      "\n"
     ]
    }
   ],
   "source": [
    "#query $gt\n",
    "for i, record in enumerate(engineinfo.find({\"horse_power\":{'$gt':500}})):\n",
    "    print(f\"record {i} : {record}\\n\")"
   ]
  },
  {
   "cell_type": "code",
   "execution_count": 39,
   "id": "d4faab19-fe7d-4db1-9ff3-46683613f447",
   "metadata": {},
   "outputs": [
    {
     "name": "stdout",
     "output_type": "stream",
     "text": [
      "record 0 : {'_id': ObjectId('66761554fc5299048e577845'), 'engine_name': 'Cayote', 'manufacture': 'Ford', 'capacity': '5.0L', 'horse_power': 475}\n",
      "\n",
      "record 1 : {'_id': ObjectId('66761554fc5299048e577846'), 'engine_name': 'Godzilla', 'manufacture': 'Ford', 'capacity': '7.0L', 'horse_power': 525}\n",
      "\n"
     ]
    }
   ],
   "source": [
    "#AND\n",
    "for i,record in enumerate(engineinfo.find({'manufacture':{'$in':['Ford', 'GM']}, 'horse_power':{'$gt':450}})):\n",
    "    print(f\"record {i} : {record}\\n\")"
   ]
  },
  {
   "cell_type": "code",
   "execution_count": 40,
   "id": "9e807918-0f1b-4c2d-ae80-3a6be0a8cbb9",
   "metadata": {},
   "outputs": [
    {
     "name": "stdout",
     "output_type": "stream",
     "text": [
      "record 0 : {'_id': ObjectId('667613fdfc5299048e577843'), 'engine_name': 'LS3', 'manufacture': 'GM', 'capacity': '6.2L', 'horse_power': 425}\n",
      "\n",
      "record 1 : {'_id': ObjectId('66761554fc5299048e577846'), 'engine_name': 'Godzilla', 'manufacture': 'Ford', 'capacity': '7.0L', 'horse_power': 525}\n",
      "\n"
     ]
    }
   ],
   "source": [
    "#OR $or\n",
    "for i,record in enumerate(engineinfo.find({'$or':[{'manufacture':'GM'},{'horse_power':{'$gt':500}}]})):\n",
    "    print(f\"record {i} : {record}\\n\")"
   ]
  },
  {
   "cell_type": "code",
   "execution_count": 44,
   "id": "5fec4675-b6a7-4858-8d67-164baae380ca",
   "metadata": {},
   "outputs": [
    {
     "data": {
      "text/plain": [
       "<pymongo.cursor.Cursor at 0x7c7bb6b78ad0>"
      ]
     },
     "execution_count": 44,
     "metadata": {},
     "output_type": "execute_result"
    }
   ],
   "source": []
  },
  {
   "cell_type": "markdown",
   "id": "9813473d-46fe-4b3a-abf2-a35585d8df3b",
   "metadata": {},
   "source": [
    "## Nested Documents"
   ]
  },
  {
   "cell_type": "code",
   "execution_count": 57,
   "id": "ab21569a-36b6-4c1f-b672-25f7aed07d75",
   "metadata": {},
   "outputs": [
    {
     "data": {
      "text/plain": [
       "InsertManyResult([ObjectId('66763bc9fc5299048e577847'), ObjectId('66763bc9fc5299048e577848'), ObjectId('66763bc9fc5299048e577849'), ObjectId('66763bc9fc5299048e57784a')], acknowledged=True)"
      ]
     },
     "execution_count": 57,
     "metadata": {},
     "output_type": "execute_result"
    }
   ],
   "source": [
    "#collection\n",
    "carinfo = mydb.carInformation\n",
    "#records\n",
    "car_info = [\n",
    "    {'model':'covette',\n",
    "    'yom':2007,\n",
    "    'origin':'USA'},\n",
    "    {'model':'supra',\n",
    "    'yom':2000,\n",
    "    'origin':'Japan'},\n",
    "    {'model':'mustang',\n",
    "    'yom':2013,\n",
    "    'origin':'USA'},\n",
    "    {'model':'f250',\n",
    "    'yom':2017,\n",
    "    'origin':'USA'}\n",
    "]\n",
    "\n",
    "for i,record in enumerate(engineinfo.find()):\n",
    "    del record['_id']\n",
    "    car_info[i]['engine'] = record\n",
    "\n",
    "#add records\n",
    "carinfo.insert_many(car_info)"
   ]
  },
  {
   "cell_type": "code",
   "execution_count": 59,
   "id": "0d54be9f-1c51-4e9e-b31a-a8769ae1442f",
   "metadata": {},
   "outputs": [
    {
     "name": "stdout",
     "output_type": "stream",
     "text": [
      "{'_id': ObjectId('66763bc9fc5299048e577847'), 'model': 'covette', 'yom': 2007, 'origin': 'USA', 'engine': {'engine_name': 'LS3', 'manufacture': 'GM', 'capacity': '6.2L', 'horse_power': 425}}\n",
      "{'_id': ObjectId('66763bc9fc5299048e577848'), 'model': 'supra', 'yom': 2000, 'origin': 'Japan', 'engine': {'engine_name': '2JZ', 'manufacture': 'Toyota', 'capacity': '3.0L', 'horse_power': 350}}\n",
      "{'_id': ObjectId('66763bc9fc5299048e577849'), 'model': 'mustang', 'yom': 2013, 'origin': 'USA', 'engine': {'engine_name': 'Cayote', 'manufacture': 'Ford', 'capacity': '5.0L', 'horse_power': 475}}\n",
      "{'_id': ObjectId('66763bc9fc5299048e57784a'), 'model': 'f250', 'yom': 2017, 'origin': 'USA', 'engine': {'engine_name': 'Godzilla', 'manufacture': 'Ford', 'capacity': '7.0L', 'horse_power': 525}}\n"
     ]
    }
   ],
   "source": [
    "for record in carinfo.find():\n",
    "    print(record)"
   ]
  },
  {
   "cell_type": "markdown",
   "id": "188381c0-e153-44ce-aa8d-6028cff2d22a",
   "metadata": {},
   "source": [
    "### Query Nested Documents"
   ]
  },
  {
   "cell_type": "code",
   "execution_count": 62,
   "id": "48fc052f-2d36-4176-aa49-6180de6a6dda",
   "metadata": {},
   "outputs": [
    {
     "name": "stdout",
     "output_type": "stream",
     "text": [
      "record 0 : {'_id': ObjectId('66763bc9fc5299048e577849'), 'model': 'mustang', 'yom': 2013, 'origin': 'USA', 'engine': {'engine_name': 'Cayote', 'manufacture': 'Ford', 'capacity': '5.0L', 'horse_power': 475}}\n",
      "\n",
      "record 1 : {'_id': ObjectId('66763bc9fc5299048e57784a'), 'model': 'f250', 'yom': 2017, 'origin': 'USA', 'engine': {'engine_name': 'Godzilla', 'manufacture': 'Ford', 'capacity': '7.0L', 'horse_power': 525}}\n",
      "\n"
     ]
    }
   ],
   "source": [
    "for i,record in enumerate(carinfo.find({'engine.manufacture':'Ford'})):\n",
    "    print(f\"record {i} : {record}\\n\")"
   ]
  },
  {
   "cell_type": "code",
   "execution_count": 65,
   "id": "2cb694f8-fc14-40c7-843d-0d9412e7c282",
   "metadata": {},
   "outputs": [
    {
     "name": "stdout",
     "output_type": "stream",
     "text": [
      "record 0 : {'_id': ObjectId('66763bc9fc5299048e57784a'), 'model': 'f250', 'yom': 2017, 'origin': 'USA', 'engine': {'engine_name': 'Godzilla', 'manufacture': 'Ford', 'capacity': '7.0L', 'horse_power': 525}}\n",
      "\n"
     ]
    }
   ],
   "source": [
    "for i,record in enumerate(carinfo.find({'engine.manufacture':'Ford', 'engine.horse_power':{'$gt':500}})):\n",
    "    print(f\"record {i} : {record}\\n\")"
   ]
  },
  {
   "cell_type": "markdown",
   "id": "d506f064-eea4-4592-881b-bd6ae4dce111",
   "metadata": {},
   "source": []
  }
 ],
 "metadata": {
  "kernelspec": {
   "display_name": "Python 3 (ipykernel)",
   "language": "python",
   "name": "python3"
  },
  "language_info": {
   "codemirror_mode": {
    "name": "ipython",
    "version": 3
   },
   "file_extension": ".py",
   "mimetype": "text/x-python",
   "name": "python",
   "nbconvert_exporter": "python",
   "pygments_lexer": "ipython3",
   "version": "3.12.3"
  }
 },
 "nbformat": 4,
 "nbformat_minor": 5
}
