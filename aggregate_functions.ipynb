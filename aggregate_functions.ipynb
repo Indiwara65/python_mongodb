{
 "cells": [
  {
   "cell_type": "code",
   "execution_count": 1,
   "id": "5f3dfca9-c821-4c8a-9326-0ca577e41c90",
   "metadata": {},
   "outputs": [
    {
     "name": "stdout",
     "output_type": "stream",
     "text": [
      "4.7.3\n"
     ]
    }
   ],
   "source": [
    "import pymongo\n",
    "print(pymongo.__version__)"
   ]
  },
  {
   "cell_type": "markdown",
   "id": "0baa3aad-3729-408a-9a20-ca549d2a0b85",
   "metadata": {},
   "source": [
    "### Connect"
   ]
  },
  {
   "cell_type": "code",
   "execution_count": 6,
   "id": "4902896e-ac4c-441d-8a2c-4e2e35a4960b",
   "metadata": {},
   "outputs": [],
   "source": [
    "#server\n",
    "client = pymongo.MongoClient(\"mongodb://localhost:27017/\")\n",
    "#db\n",
    "mydb = client[\"Engines\"]\n",
    "#colections\n",
    "carinfo = mydb.carInformation\n",
    "engineinfo = mydb.engineInformation"
   ]
  },
  {
   "cell_type": "code",
   "execution_count": 8,
   "id": "06ccbef7-cc12-4584-add1-8227f464a597",
   "metadata": {},
   "outputs": [
    {
     "name": "stdout",
     "output_type": "stream",
     "text": [
      "{'_id': ObjectId('667613fdfc5299048e577843'), 'engine_name': 'LS3', 'manufacture': 'GM', 'capacity': '6.2L', 'horse_power': 425}\n",
      "{'_id': ObjectId('66761554fc5299048e577844'), 'engine_name': '2JZ', 'manufacture': 'Toyota', 'capacity': '3.0L', 'horse_power': 350}\n",
      "{'_id': ObjectId('66761554fc5299048e577845'), 'engine_name': 'Cayote', 'manufacture': 'Ford', 'capacity': '5.0L', 'horse_power': 475}\n",
      "{'_id': ObjectId('66761554fc5299048e577846'), 'engine_name': 'Godzilla', 'manufacture': 'Ford', 'capacity': '7.0L', 'horse_power': 525}\n"
     ]
    }
   ],
   "source": [
    "for record in engineinfo.find():\n",
    "    print(record)"
   ]
  },
  {
   "cell_type": "code",
   "execution_count": 23,
   "id": "c785e95a-ef32-4ebb-b775-9856a01abdd2",
   "metadata": {},
   "outputs": [
    {
     "name": "stdout",
     "output_type": "stream",
     "text": [
      "{'_id': ObjectId('667613fdfc5299048e577843'), 'engine_name': 'LS3', 'manufacture': 'GM', 'capacity': 6.2, 'horse_power': 425}\n",
      "{'_id': ObjectId('66761554fc5299048e577844'), 'engine_name': '2JZ', 'manufacture': 'Toyota', 'capacity': 3.0, 'horse_power': 350}\n",
      "{'_id': ObjectId('66761554fc5299048e577845'), 'engine_name': 'Cayote', 'manufacture': 'Ford', 'capacity': 5.0, 'horse_power': 475}\n",
      "{'_id': ObjectId('66761554fc5299048e577846'), 'engine_name': 'Godzilla', 'manufacture': 'Ford', 'capacity': 7.0, 'horse_power': 525}\n"
     ]
    }
   ],
   "source": [
    "for record in engineinfo.find():\n",
    "    engine_name = record['engine_name']\n",
    "    capacity = record['capacity']\n",
    "    capacity = float(capacity[:-1])\n",
    "    engineinfo.update_one(\n",
    "        {'engine_name':engine_name},\n",
    "        {'$set':{'capacity':capacity}}\n",
    "    )\n",
    "for record in engineinfo.find():\n",
    "    print(record)"
   ]
  },
  {
   "cell_type": "code",
   "execution_count": 24,
   "id": "ec7a2838-7089-46f0-82b7-7a8d9053aa9f",
   "metadata": {},
   "outputs": [
    {
     "name": "stdout",
     "output_type": "stream",
     "text": [
      "{'_id': ObjectId('667613fdfc5299048e577843'), 'engine_name': 'LS3', 'manufacture': 'GM', 'capacity': 6.2, 'horse_power': 425}\n",
      "{'_id': ObjectId('66761554fc5299048e577844'), 'engine_name': '2JZ', 'manufacture': 'Toyota', 'capacity': 3.0, 'horse_power': 350}\n",
      "{'_id': ObjectId('66761554fc5299048e577845'), 'engine_name': 'Cayote', 'manufacture': 'Ford', 'capacity': 5.0, 'horse_power': 475}\n",
      "{'_id': ObjectId('66761554fc5299048e577846'), 'engine_name': 'Godzilla', 'manufacture': 'Ford', 'capacity': 7.0, 'horse_power': 525}\n",
      "{'_id': ObjectId('6677893e0a4b59c8d1b0a8de'), 'engine_name': 'K20', 'manufacture': 'Honda', 'capacity': 2.0, 'horse_power': 165}\n",
      "{'_id': ObjectId('6677893e0a4b59c8d1b0a8df'), 'engine_name': 'B16B', 'manufacture': 'Honda', 'capacity': 2.0, 'horse_power': 175}\n",
      "{'_id': ObjectId('6677893e0a4b59c8d1b0a8e0'), 'engine_name': 'Cummins', 'manufacture': 'Dodge', 'capacity': 7.0, 'horse_power': 465}\n",
      "{'_id': ObjectId('6677893e0a4b59c8d1b0a8e1'), 'engine_name': 'PowerStroke', 'manufacture': 'Ford', 'capacity': 7.0, 'horse_power': 550}\n"
     ]
    }
   ],
   "source": [
    "new_data = [\n",
    "    {\n",
    "    \"engine_name\":\"K20\",\n",
    "    \"manufacture\":\"Honda\",\n",
    "    \"capacity\":2.0,\n",
    "    \"horse_power\":165\n",
    "    },\n",
    "    {\n",
    "    \"engine_name\":\"B16B\",\n",
    "    \"manufacture\":\"Honda\",\n",
    "    \"capacity\":2.0,\n",
    "    \"horse_power\":175\n",
    "    },\n",
    "    {\n",
    "    \"engine_name\":\"Cummins\",\n",
    "    \"manufacture\":\"Dodge\",\n",
    "    \"capacity\":7.0,\n",
    "    \"horse_power\":465\n",
    "    },\n",
    "    {\n",
    "    \"engine_name\":\"PowerStroke\",\n",
    "    \"manufacture\":\"Ford\",\n",
    "    \"capacity\":7.0,\n",
    "    \"horse_power\":550\n",
    "    }\n",
    "]\n",
    "engineinfo.insert_many(new_data)\n",
    "for record in engineinfo.find():\n",
    "    print(record)"
   ]
  },
  {
   "cell_type": "markdown",
   "id": "4c2c3603-5788-4cae-b2c6-b59561a18114",
   "metadata": {},
   "source": [
    "### Aggregate Functions      \n",
    "* Aggreation functions are used to process and transform data within a collection to produce computed results.\n",
    "\n",
    "**Key Concepts of MongoDB Aggregation Framework**           \n",
    "1. Aggregation Pipeline:\n",
    "* The agregation framework uses a pipleine approach, where multiple stages are chained togeather to process documents.\n",
    "* Each stage perfrms an operation on the input document and passes the results to the next stage.       \n",
    "2. Stages:\n",
    "* Each stage in the pipline represents an operation (e.g filtering, grouping, projecting)\n",
    "* Common stages include **match, group, sort, project, limit, skip, unwind, lookup** "
   ]
  },
  {
   "cell_type": "code",
   "execution_count": 33,
   "id": "ce46c957-5fe2-47a8-825d-371ed1fec212",
   "metadata": {},
   "outputs": [
    {
     "name": "stdout",
     "output_type": "stream",
     "text": [
      "{'_id': ObjectId('667613fdfc5299048e577843'), 'engine_name': 'LS3', 'manufacture': 'GM', 'capacity': 6.2, 'horse_power': 425}\n",
      "{'_id': ObjectId('66761554fc5299048e577846'), 'engine_name': 'Godzilla', 'manufacture': 'Ford', 'capacity': 7.0, 'horse_power': 525}\n",
      "{'_id': ObjectId('6677893e0a4b59c8d1b0a8e0'), 'engine_name': 'Cummins', 'manufacture': 'Dodge', 'capacity': 7.0, 'horse_power': 465}\n",
      "{'_id': ObjectId('6677893e0a4b59c8d1b0a8e1'), 'engine_name': 'PowerStroke', 'manufacture': 'Ford', 'capacity': 7.0, 'horse_power': 550}\n"
     ]
    }
   ],
   "source": [
    "#$match - filter\n",
    "results = engineinfo.aggregate([\n",
    "                {'$match':{'capacity':{'$gt':5}}}\n",
    "                                ])\n",
    "for result in results:\n",
    "    print(result)"
   ]
  },
  {
   "cell_type": "code",
   "execution_count": 43,
   "id": "4ac8d87e-85c0-4820-a44e-dac571360984",
   "metadata": {},
   "outputs": [
    {
     "name": "stdout",
     "output_type": "stream",
     "text": [
      "{'_id': 'Ford', 'total_power': 1550}\n",
      "{'_id': 'GM', 'total_power': 425}\n",
      "{'_id': 'Honda', 'total_power': 340}\n",
      "{'_id': 'Dodge', 'total_power': 465}\n",
      "{'_id': 'Toyota', 'total_power': 350}\n"
     ]
    }
   ],
   "source": [
    "#$group - groups documents\n",
    "results = engineinfo.aggregate([\n",
    "    {'$group':\n",
    "             {'_id':'$manufacture', \n",
    "              'total_power':{'$sum':'$horse_power'}\n",
    "             }\n",
    "    }\n",
    "])\n",
    "for result in results:\n",
    "    print(result)"
   ]
  },
  {
   "cell_type": "code",
   "execution_count": 62,
   "id": "f7b232f5-8507-4562-8601-190ccace93ce",
   "metadata": {},
   "outputs": [
    {
     "name": "stdout",
     "output_type": "stream",
     "text": [
      "{'_id': ObjectId('6677893e0a4b59c8d1b0a8e1'), 'manufacture': 'Ford', 'engine': 'PowerStroke', 'usable_power': 412.5}\n",
      "{'_id': ObjectId('66761554fc5299048e577846'), 'manufacture': 'Ford', 'engine': 'Godzilla', 'usable_power': 393.75}\n"
     ]
    }
   ],
   "source": [
    "#$project - reshapes docs by including, excluding or adding new fields\n",
    "#include\n",
    "results = engineinfo.aggregate([\n",
    "    {'$match':{'manufacture':'Ford'}},      #filter\n",
    "    {'$limit':3},                           #limit\n",
    "    {'$skip':1},                            #skip     \n",
    "    {'$sort':{'engine_name':-1}},           #sort\n",
    "    {\n",
    "        '$project':{\n",
    "            'engine':'$engine_name',\n",
    "            'usable_power': {'$multiply':['$horse_power',0.75]},\n",
    "            'manufacture': 1\n",
    "        }\n",
    "    }\n",
    "     ])\n",
    "for result in results:\n",
    "    print(result)"
   ]
  },
  {
   "cell_type": "code",
   "execution_count": 63,
   "id": "5ef6edfe-8bfe-45df-8d90-d32960e26d8a",
   "metadata": {},
   "outputs": [],
   "source": [
    "#$unwind - if certain filed have a list of values then one entry will create n entries for each value"
   ]
  }
 ],
 "metadata": {
  "kernelspec": {
   "display_name": "Python 3 (ipykernel)",
   "language": "python",
   "name": "python3"
  },
  "language_info": {
   "codemirror_mode": {
    "name": "ipython",
    "version": 3
   },
   "file_extension": ".py",
   "mimetype": "text/x-python",
   "name": "python",
   "nbconvert_exporter": "python",
   "pygments_lexer": "ipython3",
   "version": "3.12.3"
  }
 },
 "nbformat": 4,
 "nbformat_minor": 5
}
