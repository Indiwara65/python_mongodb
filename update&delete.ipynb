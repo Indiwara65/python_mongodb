{
 "cells": [
  {
   "cell_type": "code",
   "execution_count": 1,
   "id": "608db609-dd86-4612-853b-163a78c0f4f1",
   "metadata": {},
   "outputs": [
    {
     "name": "stdout",
     "output_type": "stream",
     "text": [
      "4.7.3\n"
     ]
    }
   ],
   "source": [
    "import pymongo\n",
    "print(pymongo.__version__)"
   ]
  },
  {
   "cell_type": "markdown",
   "id": "806473c2-e5a4-4b62-863c-e96b246a064c",
   "metadata": {},
   "source": [
    "### Connect"
   ]
  },
  {
   "cell_type": "code",
   "execution_count": 3,
   "id": "fc5795dc-05a2-4f5c-8b29-042c48c792f3",
   "metadata": {},
   "outputs": [],
   "source": [
    "#server\n",
    "client = pymongo.MongoClient(\"mongodb://localhost:27017/\")\n",
    "#database\n",
    "mydb = client[\"Engines\"]\n",
    "#collection\n",
    "carinfo = mydb.carInformation\n",
    "engineingo = mydb.engineInformation"
   ]
  },
  {
   "cell_type": "code",
   "execution_count": 5,
   "id": "a7aee143-7a50-4d12-9e21-82aebd277397",
   "metadata": {},
   "outputs": [
    {
     "name": "stdout",
     "output_type": "stream",
     "text": [
      "{'_id': ObjectId('66763bc9fc5299048e577847'), 'model': 'covette', 'yom': 2007, 'origin': 'USA', 'engine': {'engine_name': 'LS3', 'manufacture': 'GM', 'capacity': '6.2L', 'horse_power': 425}}\n",
      "{'_id': ObjectId('66763bc9fc5299048e577848'), 'model': 'supra', 'yom': 2000, 'origin': 'Japan', 'engine': {'engine_name': '2JZ', 'manufacture': 'Toyota', 'capacity': '3.0L', 'horse_power': 350}}\n",
      "{'_id': ObjectId('66763bc9fc5299048e577849'), 'model': 'mustang', 'yom': 2013, 'origin': 'USA', 'engine': {'engine_name': 'Cayote', 'manufacture': 'Ford', 'capacity': '5.0L', 'horse_power': 475}}\n",
      "{'_id': ObjectId('66763bc9fc5299048e57784a'), 'model': 'f250', 'yom': 2017, 'origin': 'USA', 'engine': {'engine_name': 'Godzilla', 'manufacture': 'Ford', 'capacity': '7.0L', 'horse_power': 525}}\n"
     ]
    }
   ],
   "source": [
    "for record in carinfo.find():\n",
    "    print(record)"
   ]
  },
  {
   "cell_type": "markdown",
   "id": "91ec5964-c3df-40ad-ac19-c758a4198eea",
   "metadata": {},
   "source": [
    "### Update"
   ]
  },
  {
   "cell_type": "code",
   "execution_count": 24,
   "id": "5821497b-b0e2-45d9-9340-b67dd1680f08",
   "metadata": {},
   "outputs": [
    {
     "name": "stdout",
     "output_type": "stream",
     "text": [
      "updated record : {'_id': ObjectId('66763bc9fc5299048e577847'), 'model': 'covette', 'yom': 2007, 'origin': 'USA', 'engine': {'engine_name': 'LS3', 'manufacture': 'GM', 'capacity': '6.2L', 'horse_power': 455}}\n",
      "\n",
      "new field updated record : {'_id': ObjectId('66763bc9fc5299048e57784a'), 'model': 'f250', 'yom': 2017, 'origin': 'USA', 'engine': {'engine_name': 'Godzilla', 'manufacture': 'Ford', 'capacity': '7.0L', 'horse_power': 545}, 'engine_status': 'running lean'}\n",
      "\n",
      "new field deleted record : {'_id': ObjectId('66763bc9fc5299048e57784a'), 'model': 'f250', 'yom': 2017, 'origin': 'USA', 'engine': {'engine_name': 'Godzilla', 'manufacture': 'Ford', 'capacity': '7.0L', 'horse_power': 545}}\n",
      "\n",
      "incremental record : {'_id': ObjectId('66763bc9fc5299048e57784a'), 'model': 'f250', 'yom': 2017, 'origin': 'USA', 'engine': {'engine_name': 'Godzilla', 'manufacture': 'Ford', 'capacity': '7.0L', 'horse_power': 555}}\n",
      "\n",
      "incremental record : {'_id': ObjectId('66763bc9fc5299048e57784a'), 'model': 'f250', 'yom': 2017, 'origin': 'USA', 'engine': {'engine_name': 'Godzilla', 'manufacture': 'Ford', 'capacity': '7.0L', 'horse_power': 545}}\n",
      "\n"
     ]
    }
   ],
   "source": [
    "###Update One\n",
    "##$set\n",
    "#update existing filed\n",
    "carinfo.update_one(\n",
    "    {\"model\":\"covette\"},        #filter\n",
    "    {\"$set\":{\"engine.horse_power\":455}}                  #update\n",
    "    )\n",
    "for record in carinfo.find({'model':'covette'}):\n",
    "    print(f\"updated record : {record}\\n\")\n",
    "\n",
    "#create new filed\n",
    "carinfo.update_one(\n",
    "    {\"model\":\"f250\"},\n",
    "    {\"$set\":{\"engine_status\":\"running lean\"}}\n",
    ")\n",
    "for record in carinfo.find({'model':'f250'}):\n",
    "    print(f\"new field updated record : {record}\\n\")\n",
    "    \n",
    "#$unset\n",
    "carinfo.update_one(\n",
    "    {\"model\":\"f250\"},\n",
    "    {\"$unset\":{\"engine_status\":\"\"}}\n",
    ")\n",
    "for record in carinfo.find({'model':'f250'}):\n",
    "    print(f\"new field deleted record : {record}\\n\")\n",
    "\n",
    "#$inc\n",
    "#increment\n",
    "carinfo.update_one(\n",
    "    {\"model\":\"f250\"},\n",
    "    {\"$inc\":{\"engine.horse_power\":10}}\n",
    ")\n",
    "for record in carinfo.find({'model':'f250'}):\n",
    "    print(f\"incremental record : {record}\\n\")\n",
    "#decrement\n",
    "carinfo.update_one(\n",
    "    {\"model\":\"f250\"},\n",
    "    {\"$inc\":{\"engine.horse_power\":-10}}\n",
    ")\n",
    "for record in carinfo.find({'model':'f250'}):\n",
    "    print(f\"incremental record : {record}\\n\")"
   ]
  },
  {
   "cell_type": "code",
   "execution_count": 31,
   "id": "3b7b295e-ad78-4e9a-8a9f-4a8f0f2ae414",
   "metadata": {},
   "outputs": [],
   "source": [
    "for record in carinfo.find():\n",
    "    model = record['model']\n",
    "    capacity = float(record['engine']['capacity'][:-1])\n",
    "    carinfo.update_one(\n",
    "        {'model':model},\n",
    "        {'$set':{'engine.capacity':capacity}}\n",
    "    )"
   ]
  },
  {
   "cell_type": "code",
   "execution_count": 37,
   "id": "7a319250-cc46-4f92-8d54-43423eaf3ecc",
   "metadata": {},
   "outputs": [
    {
     "name": "stdout",
     "output_type": "stream",
     "text": [
      "{'_id': ObjectId('66763bc9fc5299048e577847'), 'model': 'covette', 'yom': 2007, 'origin': 'USA', 'engine': {'engine_name': 'LS3', 'manufacture': 'GM', 'capacity': 6.2, 'horse_power': 455}, 'domestic': True}\n",
      "\n",
      "{'_id': ObjectId('66763bc9fc5299048e577848'), 'model': 'supra', 'yom': 2000, 'origin': 'Japan', 'engine': {'engine_name': '2JZ', 'manufacture': 'Toyota', 'capacity': 3.0, 'horse_power': 350}, 'domestic': False}\n",
      "\n",
      "{'_id': ObjectId('66763bc9fc5299048e577849'), 'model': 'mustang', 'yom': 2013, 'origin': 'USA', 'engine': {'engine_name': 'Cayote', 'manufacture': 'Ford', 'capacity': 5.0, 'horse_power': 475}, 'domestic': True}\n",
      "\n",
      "{'_id': ObjectId('66763bc9fc5299048e57784a'), 'model': 'f250', 'yom': 2017, 'origin': 'USA', 'engine': {'engine_name': 'Godzilla', 'manufacture': 'Ford', 'capacity': 7.0, 'horse_power': 545}, 'domestic': True}\n",
      "\n"
     ]
    }
   ],
   "source": [
    "##Update Many\n",
    "##$set\n",
    "carinfo.update_many(\n",
    "    {'origin':'USA'},             #filter\n",
    "    {\"$set\":{'domestic':True}}    #update\n",
    ")\n",
    "carinfo.update_many(\n",
    "    {'origin':{\"$ne\":\"USA\"}},          #filter\n",
    "    {\"$set\":{'domestic':False}}        #update\n",
    ")\n",
    "\n",
    "for record in carinfo.find():\n",
    "    print(f\"{record}\\n\")"
   ]
  },
  {
   "cell_type": "markdown",
   "id": "95bc5650-c33f-4618-a3b2-dd4f9aa0a320",
   "metadata": {},
   "source": [
    "### Replace"
   ]
  },
  {
   "cell_type": "code",
   "execution_count": 40,
   "id": "38fc62f6-d5fa-4fe6-8e56-bc4520293671",
   "metadata": {},
   "outputs": [
    {
     "data": {
      "text/plain": [
       "UpdateResult({'n': 1, 'nModified': 1, 'ok': 1.0, 'updatedExisting': True}, acknowledged=True)"
      ]
     },
     "execution_count": 40,
     "metadata": {},
     "output_type": "execute_result"
    }
   ],
   "source": [
    "carinfo.replace_one(\n",
    "    {'model':'f250'},\n",
    "    {'model': 'f150',\n",
    "     'yom': 2018,\n",
    "     'origin': 'USA',\n",
    "     'engine': {'engine_name': 'Godzilla',\n",
    "                'manufacture': 'Ford',\n",
    "                'capacity': 7.0,\n",
    "                'horse_power': 545}\n",
    "     , 'domestic': True}\n",
    ")"
   ]
  },
  {
   "cell_type": "markdown",
   "id": "75efb975-b283-45a6-996c-f6407b773d84",
   "metadata": {},
   "source": [
    "### Delete"
   ]
  },
  {
   "cell_type": "code",
   "execution_count": 46,
   "id": "7e15dd44-e6ac-4484-96d8-02746d5371ee",
   "metadata": {},
   "outputs": [
    {
     "data": {
      "text/plain": [
       "InsertOneResult(ObjectId('6677729b703215bd28758546'), acknowledged=True)"
      ]
     },
     "execution_count": 46,
     "metadata": {},
     "output_type": "execute_result"
    }
   ],
   "source": [
    "carinfo.insert_one({'model': 'RAM',\n",
    "     'yom': 2018,\n",
    "     'origin': 'USA',\n",
    "     'engine': {'engine_name': 'Cummins',\n",
    "                'manufacture': 'Dodge',\n",
    "                'capacity': 7.0,\n",
    "                'horse_power': 345}\n",
    "     , 'domestic': True})"
   ]
  },
  {
   "cell_type": "code",
   "execution_count": 51,
   "id": "4c16b89b-2e97-4a6e-827c-dcec7d0219e3",
   "metadata": {},
   "outputs": [],
   "source": [
    "carinfo.delete_one(\n",
    "    {\"engine.manufacture\":\"Dodge\"},     #filter\n",
    ")\n",
    "for record in carinfo.find({\"engine.manufacture\":\"Dodge\"}):\n",
    "    print(record)"
   ]
  },
  {
   "cell_type": "code",
   "execution_count": 52,
   "id": "a5034a16-3c12-45ad-90b7-1119862f938e",
   "metadata": {},
   "outputs": [],
   "source": [
    "data = [\n",
    "    {'model': 'Corolla',\n",
    "     'yom': 2018,\n",
    "     'origin': 'Japan',\n",
    "     'engine': {'engine_name': '1NZ',\n",
    "                'manufacture': \"Toyota\",\n",
    "                'capacity': 1.5,\n",
    "                'horse_power': 90}\n",
    "     , 'domestic': False},\n",
    "    {'model': 'Civic',\n",
    "     'yom': 1999,\n",
    "     'origin': 'Japan',\n",
    "     'engine': {'engine_name': 'K20',\n",
    "                'manufacture': 'Honda',\n",
    "                'capacity': 2.0,\n",
    "                'horse_power': 165}\n",
    "     , 'domestic': False},\n",
    "    {'model': 'Land Cruiser',\n",
    "     'yom': 2012,\n",
    "     'origin': 'Japan',\n",
    "     'engine': {'engine_name': '1UFZ',\n",
    "                'manufacture': 'Toyota',\n",
    "                'capacity': 5.0,\n",
    "                'horse_power': 365}\n",
    "     , 'domestic': False}\n",
    "]\n",
    "carinfo.insert_many(data)\n",
    "carinfo.delete_many(\n",
    "    {\"engine.capacity\":{\"$lt\":2},\"engine.horse_power\":{\"$lt\":150}}\n",
    ")\n",
    "for recor in carinfo.find({\"engine.capacity\":{\"$lt\":2},\"engine.horse_power\":{\"$lt\":150}}):\n",
    "    print(record)"
   ]
  },
  {
   "cell_type": "code",
   "execution_count": null,
   "id": "df9efa21-7825-4246-a29f-c242ab75224a",
   "metadata": {},
   "outputs": [],
   "source": []
  }
 ],
 "metadata": {
  "kernelspec": {
   "display_name": "Python 3 (ipykernel)",
   "language": "python",
   "name": "python3"
  },
  "language_info": {
   "codemirror_mode": {
    "name": "ipython",
    "version": 3
   },
   "file_extension": ".py",
   "mimetype": "text/x-python",
   "name": "python",
   "nbconvert_exporter": "python",
   "pygments_lexer": "ipython3",
   "version": "3.12.3"
  }
 },
 "nbformat": 4,
 "nbformat_minor": 5
}
